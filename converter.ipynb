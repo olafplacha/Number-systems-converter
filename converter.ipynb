{
 "cells": [
  {
   "cell_type": "code",
   "execution_count": 14,
   "metadata": {},
   "outputs": [
    {
     "name": "stdout",
     "output_type": "stream",
     "text": [
      "Give a number: 123456789\n",
      "123456789 in binary: 111010110111100110100010101\n",
      "123456789 in hexagonal: 75BCD15"
     ]
    }
   ],
   "source": [
    "import math\n",
    "\n",
    "number = int(input('Give a number: '))\n",
    "binary = []\n",
    "hexagonal = []\n",
    "\n",
    "number_copy = number\n",
    "\n",
    "while number_copy > 0:\n",
    "    binary.append(number_copy % 2)\n",
    "    number_copy //= 2\n",
    "    \n",
    "digits_hex_num = math.ceil(len(binary) / 4.0)\n",
    "digits_hex = ['A', 'B', 'C', 'D', 'E', 'F']\n",
    "\n",
    "for i in range(digits_hex_num):\n",
    "    digit = 0\n",
    "    for y in range(4):\n",
    "        if 4*i+y > len(binary) - 1:\n",
    "            break\n",
    "        digit += 2**y * binary[4*i+y]\n",
    "    if digit > 9:\n",
    "        to_append = digits_hex[digit-10]\n",
    "    else:\n",
    "        to_append = str(digit)\n",
    "    hexagonal.append(to_append)\n",
    "\n",
    "print(number, 'in binary: ', end='')\n",
    "for i in binary[::-1]:\n",
    "    print(i, end='')\n",
    "if number == 0:\n",
    "    print('0', end='')\n",
    "\n",
    "print()\n",
    "print(number, 'in hexagonal: ', end='')\n",
    "for i in hexagonal[::-1]:\n",
    "    print(i, end='')\n",
    "if number == 0:\n",
    "    print('0', end='')"
   ]
  },
  {
   "cell_type": "code",
   "execution_count": null,
   "metadata": {
    "collapsed": true
   },
   "outputs": [],
   "source": []
  }
 ],
 "metadata": {
  "kernelspec": {
   "display_name": "Python 3",
   "language": "python",
   "name": "python3"
  },
  "language_info": {
   "codemirror_mode": {
    "name": "ipython",
    "version": 3
   },
   "file_extension": ".py",
   "mimetype": "text/x-python",
   "name": "python",
   "nbconvert_exporter": "python",
   "pygments_lexer": "ipython3",
   "version": "3.6.3"
  }
 },
 "nbformat": 4,
 "nbformat_minor": 2
}
